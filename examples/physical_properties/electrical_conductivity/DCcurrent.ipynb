{
 "cells": [
  {
   "cell_type": "code",
   "execution_count": 1,
   "metadata": {
    "collapsed": false
   },
   "outputs": [
    {
     "name": "stdout",
     "output_type": "stream",
     "text": [
      "Populating the interactive namespace from numpy and matplotlib\n"
     ]
    }
   ],
   "source": [
    "%pylab inline\n",
    "import matplotlib"
   ]
  },
  {
   "cell_type": "code",
   "execution_count": 38,
   "metadata": {
    "collapsed": true
   },
   "outputs": [],
   "source": [
    "matplotlib.rcParams['font.size'] = 27\n",
    "def petaonfun(eta, tau, t):\n",
    "    petaon = 1-eta*np.exp(-1./(1-eta)/tau*t)\n",
    "    return petaon\n",
    "def petaofffun(eta, tau, t):\n",
    "    petaoff = eta*np.exp(-1./(1-eta)/tau*t)\n",
    "    return petaoff"
   ]
  },
  {
   "cell_type": "code",
   "execution_count": 39,
   "metadata": {
    "collapsed": false
   },
   "outputs": [
    {
     "data": {
      "image/png": "[encoded data removed]",
      "text/plain": [
       "<matplotlib.figure.Figure at 0x10708f890>"
      ]
     },
     "metadata": {},
     "output_type": "display_data"
    }
   ],
   "source": [
    "intind = range(4,15)\n",
    "time_on = np.linspace(0, 0.5, 61)\n",
    "time_off = time_on+time_on[-1]\n",
    "eta = 0.\n",
    "tau = 0.1\n",
    "temp_on = petaonfun(eta, tau, time_on)*0.7\n",
    "temp_off = petaofffun(eta, tau, time_on)\n",
    "\n",
    "# plt.xkcd()\n",
    "\n",
    "fig, ax = plt.subplots(1,1, figsize  = (8,5))\n",
    "ax.plot(np.r_[-0.2,1.2],np.zeros(2), 'k-')\n",
    "ax.plot(np.ones(2)*time_on[0]-0.002,np.r_[-0.2,1.2], 'k-')\n",
    "time = np.r_[-0.1, 1.1]\n",
    "ax.plot(time, np.ones_like(time)*0.7, 'r-', lw = 3)\n",
    "# ax.plot(time_off, temp_off, 'r-', lw = 3)\n",
    "ax.fill_between(time_off[intind], temp_off[intind], where=np.zeros(time_off[intind].size)<=temp_off[intind], color='k', alpha = 0.2)\n",
    "ax.set_ylim(-0.2, 1.2)\n",
    "ax.set_xlim(-0.1, 1.1)\n",
    "ax.grid(True)\n",
    "ax.set_xlabel('Time')\n",
    "ax.set_ylabel('I (A)')\n",
    "\n",
    "# ax.plot(np.r_[time_on[0], time_on[0]]-0.002, np.r_[0., temp_on[0]], 'r-', lw = 3)\n",
    "# ax.plot(np.r_[time_on[0], time_on[0]]-0.002, np.r_[0., temp_on[0]], 'r-', lw = 3)\n",
    "# ax.plot(np.r_[time_on[-1], time_on[-1]]-0.002, np.r_[temp_off[0], 0.7], 'r-', lw = 3)\n",
    "\n",
    "ax.text(0.2, 0.8, 'Current (I)', color=\"r\")\n",
    "ax.text(-0.05, -0.1, '0', color=\"k\")\n",
    "\n",
    "ax.set_yticks([])\n",
    "ax.set_xticks([])\n",
    "fig.savefig('./CurrentDC.png', dpi = 100)"
   ]
  },
  {
   "cell_type": "code",
   "execution_count": 4,
   "metadata": {
    "collapsed": false
   },
   "outputs": [
    {
     "data": {
      "image/png": "[encoded data removed]",
      "text/plain": [
       "<matplotlib.figure.Figure at 0x1066be750>"
      ]
     },
     "metadata": {},
     "output_type": "display_data"
    }
   ],
   "source": [
    "intind = range(4,15)\n",
    "time_on = np.linspace(0, 0.5, 61)\n",
    "time_off = time_on+time_on[-1]\n",
    "eta = 0.\n",
    "tau = 0.1\n",
    "temp_on = petaonfun(eta, tau, time_on)*0.7\n",
    "temp_off = petaofffun(eta, tau, time_on)\n",
    "\n",
    "# plt.xkcd()\n",
    "fig, ax = plt.subplots(1,1, figsize  = (8,5))\n",
    "ax.plot(time_on, temp_on, 'k-', lw = 3)\n",
    "ax.plot(time_off, temp_off, 'k-', lw = 3)\n",
    "ax.fill_between(time_off[intind], temp_off[intind], where=np.zeros(time_off[intind].size)<=temp_off[intind], color='k', alpha = 0.2)\n",
    "ax.set_ylim(-0.2, 1.2)\n",
    "ax.set_xlim(-0.1, 1.1)\n",
    "ax.grid(True)\n",
    "ax.set_xlabel('Time')\n",
    "ax.set_ylabel('Potential difference')\n",
    "\n",
    "ax.plot(np.r_[time_on[0], time_on[0]]-0.002, np.r_[0., temp_on[0]], 'k-', lw = 3)\n",
    "ax.plot(np.r_[time_on[-1], time_on[-1]]-0.002, np.r_[temp_off[0], 0.7], 'k-', lw = 3)\n",
    "ax.plot(np.r_[-0.2,1.2],np.zeros(2), 'k-')\n",
    "ax.plot(np.ones(2)*time_on[-1]-0.002,np.r_[-0.2,1.2], 'k-')\n",
    "\n",
    "ax.text(-0.1, 0.65, '$V_{\\infty}$', fontsize = 20)\n",
    "ax.text(0.5, 0.65, '$V_0$', fontsize = 20)\n",
    "# ax.text(0.55, 0.25, '$V_s(t)$', fontsize = 20)\n",
    "# ax.text(0.51, -0.1, '$t_1$', fontsize = 16)\n",
    "# ax.text(0.62, -0.1, '$t_2$', fontsize = 16)\n",
    "ax.text(0.1, 1.1, 'On-time', fontsize = 20)\n",
    "ax.text(0.6, 1.1, 'Off-time', fontsize = 20)\n",
    "ax.set_yticks([])\n",
    "ax.set_xticks([])\n",
    "fig.savefig('./DCIPcurve.png', dpi = 100)"
   ]
  },
  {
   "cell_type": "code",
   "execution_count": 8,
   "metadata": {
    "collapsed": false
   },
   "outputs": [
    {
     "data": {
      "image/png": "[encoded data removed]",
      "text/plain": [
       "<matplotlib.figure.Figure at 0x10689dcd0>"
      ]
     },
     "metadata": {},
     "output_type": "display_data"
    }
   ],
   "source": [
    "fig, ax = plt.subplots(1,1, figsize = (7, 5))\n"
   ]
  },
  {
   "cell_type": "code",
   "execution_count": null,
   "metadata": {
    "collapsed": true
   },
   "outputs": [],
   "source": []
  }
 ],
 "metadata": {
  "kernelspec": {
   "display_name": "Python 2",
   "language": "python",
   "name": "python2"
  },
  "language_info": {
   "codemirror_mode": {
    "name": "ipython",
    "version": 2
   },
   "file_extension": ".py",
   "mimetype": "text/x-python",
   "name": "python",
   "nbconvert_exporter": "python",
   "pygments_lexer": "ipython2",
   "version": "2.7.11"
  }
 },
 "nbformat": 4,
 "nbformat_minor": 0
}
