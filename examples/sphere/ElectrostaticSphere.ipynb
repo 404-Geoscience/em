{
 "cells": [
  {
   "cell_type": "code",
   "execution_count": 1,
   "metadata": {
    "collapsed": false
   },
   "outputs": [],
   "source": [
    "from scipy.constants import epsilon_0\n",
    "import matplotlib.pyplot as plt\n",
    "import numpy as np\n",
    "% matplotlib inline\n",
    "from SimPEG.Utils import ndgrid\n",
    "from ipywidgets import *"
   ]
  },
  {
   "cell_type": "markdown",
   "metadata": {},
   "source": [
    "# Setup:\n",
    "\n",
    "Sphere in a wholespace with a constant, uniform electric field\n",
    "\n",
    "Parameters:\n",
    "\n",
    " - sigma_0 : conductivity of the background\n",
    " - sigma_1 : conductivity of the sphere"
   ]
  },
  {
   "cell_type": "markdown",
   "metadata": {
    "collapsed": false
   },
   "source": [
    "# Make a plot \n",
    "\n",
    "x = np.linspace(0,1,50)\n",
    "m = 1\n",
    "b = 10\n",
    "y = m*x + b\n",
    "\n",
    "fig,ax = plt.subplots(1,2,figsize=(4,5))\n",
    "ax[0].plot(x,y)\n",
    "\n",
    "ax[1].plot(y,x)\n",
    "http://www.3ptscience.com/app/DCresistivity"
   ]
  },
  {
   "cell_type": "code",
   "execution_count": 12,
   "metadata": {
    "collapsed": false
   },
   "outputs": [
    {
     "data": {
      "image/png": "[encoded data removed]",
      "text/plain": [
       "<matplotlib.figure.Figure at 0x1066d8610>"
      ]
     },
     "metadata": {},
     "output_type": "display_data"
    }
   ],
   "source": [
    "soa =np.array( [ [0,0,3,2], [0,0,1,1],[0,0,9,9]]) \n",
    "X,Y,U,V = zip(*soa)\n",
    "plt.figure()\n",
    "ax = plt.gca()\n",
    "ax.quiver(X,Y,U,V,angles='xy',scale_units='xy',scale=1)\n",
    "ax.set_xlim([-1,10])\n",
    "ax.set_ylim([-1,10])\n",
    "plt.draw()\n",
    "plt.show()\n"
   ]
  },
  {
   "cell_type": "code",
   "execution_count": 14,
   "metadata": {
    "collapsed": false
   },
   "outputs": [
    {
     "name": "stdout",
     "output_type": "stream",
     "text": [
      "(3, 4)\n"
     ]
    }
   ],
   "source": []
  },
  {
   "cell_type": "markdown",
   "metadata": {},
   "source": [
    "# Integer/Float"
   ]
  },
  {
   "cell_type": "code",
   "execution_count": 2,
   "metadata": {
    "collapsed": false
   },
   "outputs": [
    {
     "name": "stdout",
     "output_type": "stream",
     "text": [
      "0\n",
      "0.333333333333\n"
     ]
    }
   ],
   "source": [
    "print 1/3\n",
    "print 1./3."
   ]
  },
  {
   "cell_type": "markdown",
   "metadata": {},
   "source": [
    "# Parameters for the sphere Problem\n"
   ]
  },
  {
   "cell_type": "code",
   "execution_count": 3,
   "metadata": {
    "collapsed": true
   },
   "outputs": [],
   "source": [
    "sig0 = 10        # conductivity of the wholespace\n",
    "sig1 = 2           # conductivity of the sphere\n",
    "R    = 50          # radius of the sphere\n",
    "E0   = 1           # inducing field strength\n",
    "xr = np.linspace(-2.*R, 2.*R, 100)\n",
    "yr = xr.copy()\n",
    "zr = np.r_[0] # identical to saying `zr = np.array([0])`\n",
    "XYZ = ndgrid(xr,yr,zr) #Half-Space Definition\n",
    "# d    = 2           # mesh spacing"
   ]
  },
  {
   "cell_type": "code",
   "execution_count": 4,
   "metadata": {
    "collapsed": true
   },
   "outputs": [],
   "source": [
    "r  = lambda x,y,z: np.sqrt(x**2+y**2+z**2)\n",
    "sigf = lambda sig0,sig1: (sig1-sig0)/(sig1+2.*sig0)"
   ]
  },
  {
   "cell_type": "code",
   "execution_count": 5,
   "metadata": {
    "collapsed": true
   },
   "outputs": [],
   "source": [
    "# assumes an x-oriented inducing field\n",
    "# and that the sphere is at the origin\n",
    "def get_Potential(XYZ,sig0,sig1,R,E0): \n",
    "    \n",
    "    x,y,z = XYZ[:,0],XYZ[:,1],XYZ[:,2]\n",
    "    \n",
    "    sig_cur= sigf(sig0,sig1)\n",
    "    \n",
    "    r_cur = r(x,y,z)\n",
    "    \n",
    "    ind0 = (r_cur > R)\n",
    "    ind1 = (r_cur <= R)\n",
    "    \n",
    "    assert (ind0 + ind1).all(), 'Some indicies not included'\n",
    "    \n",
    "    V = np.zeros_like(x)\n",
    "    \n",
    "    V[ind0] = -E0*x[ind0]*(1.-sig_cur*R**3./r_cur[ind0]**3) # outside the sphere\n",
    "    V[ind1] = -E0*x[ind1]*3.*sig0/(sig1+2.*sig0)\n",
    "    \n",
    "    return V"
   ]
  },
  {
   "cell_type": "code",
   "execution_count": 6,
   "metadata": {
    "collapsed": true
   },
   "outputs": [],
   "source": [
    "def get_Primary_Potential(XYZ,sig0,sig1,R,E0):\n",
    "    x = XYZ[:,0]\n",
    "    return - E0*x"
   ]
  },
  {
   "cell_type": "code",
   "execution_count": 7,
   "metadata": {
    "collapsed": true
   },
   "outputs": [],
   "source": [
    "#Define the conductivity for each point of the space\n",
    "def get_Conductivity(XYZ,sig0,sig1,R):\n",
    "    x,y,z = XYZ[:,0],XYZ[:,1],XYZ[:,2]\n",
    "    r_view=r(x,y,z)\n",
    "    \n",
    "    int0= (r_view>R)\n",
    "    int1= (r_view<=R)\n",
    "    \n",
    "    Sigma = np.zeros_like(x)\n",
    "    \n",
    "    Sigma[int0]=sig0\n",
    "    Sigma[int1]=sig1\n",
    "    \n",
    "    return Sigma"
   ]
  },
  {
   "cell_type": "code",
   "execution_count": 8,
   "metadata": {
    "collapsed": false
   },
   "outputs": [
    {
     "data": {
      "text/plain": [
       "<function __main__.plot_Potentials>"
      ]
     },
     "execution_count": 8,
     "metadata": {},
     "output_type": "execute_result"
    },
    {
     "name": "stderr",
     "output_type": "stream",
     "text": [
      "/Applications/Anaconda/anaconda/lib/python2.7/site-packages/matplotlib/collections.py:590: FutureWarning: elementwise comparison failed; returning scalar instead, but in the future will perform elementwise comparison\n",
      "  if self._edgecolors == str('face'):\n"
     ]
    },
    {
     "data": {
      "image/png": "[encoded data removed]",
      "text/plain": [
       "<matplotlib.figure.Figure at 0x1066d0a50>"
      ]
     },
     "metadata": {},
     "output_type": "display_data"
    }
   ],
   "source": [
    "#Interactive tool to visualise the primary, secondary and total potentials\n",
    "\n",
    "R_slider = FloatSlider(min=0., max =50., step=10.)\n",
    "S_slider = FloatSlider(min=1., max =100., step=1.)\n",
    "\n",
    "def plot_Potentials(R,sig1):\n",
    "    Sigma = get_Conductivity(XYZ,sig0,sig1,R)\n",
    "    V = get_Potential(XYZ,sig0,sig1,R,E0)\n",
    "    Vp = get_Primary_Potential(XYZ,sig0,sig1,R,E0)\n",
    "\n",
    "    xcirc = xr[np.abs(xr) <= R]\n",
    "\n",
    "    fig,ax = plt.subplots(1,4,figsize=(15,5))\n",
    "\n",
    "    ax[0].pcolor(xr,yr,Sigma.reshape(xr.size, yr.size))\n",
    "    ax[0].plot(xcirc,np.sqrt(R**2-xcirc**2),'--k',xcirc,-np.sqrt(R**2-xcirc**2),'--k')\n",
    "    ax[0].set_title('Configuration')\n",
    "\n",
    "    ax[1].pcolor(xr,yr,Vp.reshape(xr.size,yr.size))\n",
    "    ax[1].plot(xcirc,np.sqrt(R**2-xcirc**2),'--k',xcirc,-np.sqrt(R**2-xcirc**2),'--k')\n",
    "    ax[1].set_title('Primary Potential')\n",
    "\n",
    "    ax[2].pcolor(xr,yr,V.reshape(xr.size,yr.size))\n",
    "    ax[2].plot(xcirc,np.sqrt(R**2-xcirc**2),'--k',xcirc,-np.sqrt(R**2-xcirc**2),'--k')\n",
    "    ax[2].set_title('Total Potential')\n",
    "\n",
    "    ax[3].pcolor(xr,yr,(V-Vp).reshape(xr.size,yr.size))\n",
    "    ax[3].plot(xcirc,np.sqrt(R**2-xcirc**2),'--k',xcirc,-np.sqrt(R**2-xcirc**2),'--k')\n",
    "    ax[3].set_title('Secondary Potential')\n",
    "\n",
    "    plt.tight_layout()\n",
    "    \n",
    "interact(plot_Potentials, R=R_slider, sig1=S_slider)"
   ]
  },
  {
   "cell_type": "code",
   "execution_count": 15,
   "metadata": {
    "collapsed": false
   },
   "outputs": [],
   "source": [
    "#Function that returns the primary and total electric fields\n",
    "\n",
    "def get_ElectricField (XYZ,sig0,sig1,R,E0):\n",
    "    \n",
    "    x,y,z= XYZ[:,0], XYZ[:,1], XYZ[:,2]\n",
    "    \n",
    "    r_cur=r(x,y,z)\n",
    "    \n",
    "    int0= (r_cur>R)\n",
    "    int1= (r_cur<=R)\n",
    "        \n",
    "    Ep = np.zeros(shape=(len(x),3))\n",
    "    Ep[:,0] = E0\n",
    "    \n",
    "    Et = np.zeros(shape=(len(x),3))\n",
    "    \n",
    "    Et[int0,0] = E0 + E0*R**3./r_cur[int0]**5.*sigf(sig0,sig1)*(2.*x[int0]**2.-y[int0]**2.-z[int0]**2.);\n",
    "    Et[int0,1] = E0*R**3./r_cur[int0]**5.*3.*x[int0]*y[int0]*sigf(sig0,sig1);\n",
    "    Et[int0,2] = E0*R**3./r_cur[int0]**5.*3.*x[int0]*z[int0]*sigf(sig0,sig1);\n",
    "\n",
    "    Et[int1,0] = 3.*sig0/(sig1+2.*sig0);\n",
    "    Et[int1,1] = 0.;\n",
    "    Et[int1,2] = 0.;\n",
    "    \n",
    "    return Et, Ep\n"
   ]
  },
  {
   "cell_type": "code",
   "execution_count": null,
   "metadata": {
    "collapsed": false
   },
   "outputs": [
    {
     "data": {
      "text/plain": [
       "<function __main__.plot_ElectricField>"
      ]
     },
     "execution_count": 16,
     "metadata": {},
     "output_type": "execute_result"
    }
   ],
   "source": [
    "R_slider = FloatSlider(min=0., max =50., step=10.)\n",
    "S_slider = FloatSlider(min=1., max =100., step=1.)\n",
    "\n",
    "def plot_ElectricField(R,sig1):\n",
    "   \n",
    "    Sigma = get_Conductivity(XYZ,sig0,sig1,R)\n",
    "    Et, Ep = get_ElectricField(XYZ,sig0,sig1,R,E0)\n",
    "    \n",
    "    xcirc = xr[np.abs(xr) <= R]\n",
    "    \n",
    "    fig,ax = plt.subplots(1,4,figsize=(15,5))\n",
    "\n",
    "    ax[0].pcolor(xr,yr,Sigma.reshape(xr.size, yr.size))\n",
    "    #ax[0].plot(xcirc,np.sqrt(R**2-xcirc**2),'--k',xcirc,-np.sqrt(R**2-xcirc**2),'--k')\n",
    "    ax[0].set_title('Configuration')\n",
    "\n",
    "    ax[1].pcolor(xr,yr,Et[:,0].reshape(xr.size, yr.size))\n",
    "    ax[1].plot(xcirc,np.sqrt(R**2-xcirc**2),'--k',xcirc,-np.sqrt(R**2-xcirc**2),'--k')\n",
    "    ax[1].set_title('Total Ex')\n",
    "\n",
    "    ax[2].pcolor(xr,yr,Et[:,1].reshape(xr.size,yr.size))\n",
    "    ax[2].plot(xcirc,np.sqrt(R**2-xcirc**2),'--k',xcirc,-np.sqrt(R**2-xcirc**2),'--k')\n",
    "    ax[2].set_title('Total Ey')\n",
    "\n",
    "    ax[3].pcolor(xr,yr,(Et[:,0]-Ep[:,0]).reshape(xr.size,yr.size))\n",
    "    ax[3].plot(xcirc,np.sqrt(R**2-xcirc**2),'--k',xcirc,-np.sqrt(R**2-xcirc**2),'--k')\n",
    "    ax[3].set_title('Secondary Ex')\n",
    "\n",
    "    plt.tight_layout()\n",
    "    \n",
    "interact(plot_ElectricField, R=R_slider, sig1=S_slider)"
   ]
  },
  {
   "cell_type": "markdown",
   "metadata": {
    "collapsed": true
   },
   "source": []
  },
  {
   "cell_type": "code",
   "execution_count": null,
   "metadata": {
    "collapsed": false
   },
   "outputs": [],
   "source": []
  },
  {
   "cell_type": "code",
   "execution_count": null,
   "metadata": {
    "collapsed": true
   },
   "outputs": [],
   "source": []
  }
 ],
 "metadata": {
  "kernelspec": {
   "display_name": "Python 2",
   "language": "python",
   "name": "python2"
  },
  "language_info": {
   "codemirror_mode": {
    "name": "ipython",
    "version": 2
   },
   "file_extension": ".py",
   "mimetype": "text/x-python",
   "name": "python",
   "nbconvert_exporter": "python",
   "pygments_lexer": "ipython2",
   "version": "2.7.10"
  }
 },
 "nbformat": 4,
 "nbformat_minor": 0
}
