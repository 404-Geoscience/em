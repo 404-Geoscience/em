{
 "cells": [
  {
   "cell_type": "code",
   "execution_count": 1,
   "metadata": {
    "collapsed": false
   },
   "outputs": [],
   "source": [
    "from scipy.constants import epsilon_0\n",
    "import matplotlib.pyplot as plt\n",
    "import numpy as np\n",
    "% matplotlib inline\n",
    "from SimPEG.Utils import ndgrid\n",
    "from ipywidgets import *"
   ]
  },
  {
   "cell_type": "markdown",
   "metadata": {},
   "source": [
    "# Setup:\n",
    "\n",
    "Sphere in a wholespace with a constant, uniform electric field\n",
    "\n",
    "Parameters:\n",
    "\n",
    " - sigma_0 : conductivity of the background\n",
    " - sigma_1 : conductivity of the sphere"
   ]
  },
  {
   "cell_type": "markdown",
   "metadata": {
    "collapsed": false
   },
   "source": [
    "# Make a plot \n",
    "\n",
    "x = np.linspace(0,1,50)\n",
    "m = 1\n",
    "b = 10\n",
    "y = m*x + b\n",
    "\n",
    "fig,ax = plt.subplots(1,2,figsize=(4,5))\n",
    "ax[0].plot(x,y)\n",
    "\n",
    "ax[1].plot(y,x)\n",
    "\n",
    "#Integer/Float\n",
    "\n",
    "print 1/3   # integer division\n",
    "print 1./3. # floats "
   ]
  },
  {
   "cell_type": "markdown",
   "metadata": {},
   "source": [
    "# Parameters for the sphere Problem\n"
   ]
  },
  {
   "cell_type": "code",
   "execution_count": 9,
   "metadata": {
    "collapsed": true
   },
   "outputs": [],
   "source": [
    "\n",
    "sig0 = 1        # conductivity of the wholespace\n",
    "sig1 = 2           # conductivity of the sphere\n",
    "R    = 50          # radius of the sphere\n",
    "E0   = 1           # inducing field strength\n",
    "xr = np.linspace(-2.*R, 2.*R, 100)\n",
    "yr = xr.copy()\n",
    "zr = np.r_[0] # identical to saying `zr = np.array([0])`\n",
    "XYZ = ndgrid(xr,yr,zr) #Half-Space Definition\n",
    "# d    = 2           # mesh spacing"
   ]
  },
  {
   "cell_type": "code",
   "execution_count": 10,
   "metadata": {
    "collapsed": true
   },
   "outputs": [],
   "source": [
    "r  = lambda x,y,z: np.sqrt(x**2+y**2+z**2)"
   ]
  },
  {
   "cell_type": "code",
   "execution_count": 63,
   "metadata": {
    "collapsed": true
   },
   "outputs": [],
   "source": [
    "# assumes an x-oriented inducing field\n",
    "# and that the sphere is at the origin\n",
    "def get_Potential(XYZ,sig0,sig1,R,E0): \n",
    "    \n",
    "    x,y,z = XYZ[:,0],XYZ[:,1],XYZ[:,2]\n",
    "    \n",
    "    sigf = (sig1-sig0)/(sig1+2.*sig0)\n",
    "    \n",
    "    r_cur = r(x,y,z)\n",
    "    \n",
    "    ind0 = (r_cur > R)\n",
    "    ind1 = (r_cur <= R)\n",
    "    \n",
    "    assert (ind0 + ind1).all(), 'Some indicies not included'\n",
    "    \n",
    "    V = np.zeros_like(x)\n",
    "    \n",
    "    V[ind0] = -E0*x[ind0]*(1.-sigf*R**3./r_cur[ind0]**3) # outside the sphere\n",
    "    V[ind1] = -E0*x[ind1]*3.*sig0/(sig1+2.*sig0)\n",
    "    \n",
    "    return V"
   ]
  },
  {
   "cell_type": "code",
   "execution_count": 64,
   "metadata": {
    "collapsed": true
   },
   "outputs": [],
   "source": [
    "def get_Primary_Potential(XYZ,sig0,sig1,R,E0):\n",
    "    x = XYZ[:,0]\n",
    "    return - E0*x"
   ]
  },
  {
   "cell_type": "code",
   "execution_count": 65,
   "metadata": {
    "collapsed": false
   },
   "outputs": [
    {
     "data": {
      "text/plain": [
       "(10000, 3)"
      ]
     },
     "execution_count": 65,
     "metadata": {},
     "output_type": "execute_result"
    }
   ],
   "source": [
    "XYZ.shape"
   ]
  },
  {
   "cell_type": "code",
   "execution_count": 74,
   "metadata": {
    "collapsed": true
   },
   "outputs": [],
   "source": [
    "def get_Conductivity(XYZ,sig0,sig1,R):\n",
    "    x,y,z = XYZ[:,0],XYZ[:,1],XYZ[:,2]\n",
    "    r_view=r(x,y,z)\n",
    "    \n",
    "    int0= (r_view>R)\n",
    "    int1= (r_view<=R)\n",
    "    \n",
    "    Sigma = np.zeros_like(x)\n",
    "    \n",
    "    Sigma[int0]=sig0\n",
    "    Sigma[int1]=sig1\n",
    "    \n",
    "    return Sigma"
   ]
  },
  {
   "cell_type": "code",
   "execution_count": null,
   "metadata": {
    "collapsed": false
   },
   "outputs": [],
   "source": [
    "R_slider = FloatSlider(min=0., max =50., step=10.)\n",
    "S_slider = FloatSlider(min=-10., max =10., step=1.)\n",
    "\n",
    "def plot_Potential(R,sig1):\n",
    "    Sigma = get_Conductivity(XYZ,sig0,sig1,R)\n",
    "    V = get_Potential(XYZ,sig0,sig1,R,E0)\n",
    "    Vp = get_Primary_Potential(XYZ,sig0,sig1,R,E0)\n",
    "\n",
    "    xcirc = xr[np.abs(xr) <= R]\n",
    "\n",
    "    fig,ax = plt.subplots(1,4,figsize=(10,5))\n",
    "\n",
    "    ax[0].pcolor(xr,yr,Sigma.reshape(xr.size, yr.size))\n",
    "    ax[0].plot(xcirc,np.sqrt(R**2-xcirc**2),'--k',xcirc,-np.sqrt(R**2-xcirc**2),'--k')\n",
    "    ax[0].set_title('Configuration')\n",
    "\n",
    "    ax[1].pcolor(xr,yr,Vp.reshape(xr.size,yr.size))\n",
    "    ax[1].plot(xcirc,np.sqrt(R**2-xcirc**2),'--k',xcirc,-np.sqrt(R**2-xcirc**2),'--k')\n",
    "    ax[1].set_title('Primary Potential')\n",
    "\n",
    "    ax[2].pcolor(xr,yr,V.reshape(xr.size,yr.size))\n",
    "    ax[2].plot(xcirc,np.sqrt(R**2-xcirc**2),'--k',xcirc,-np.sqrt(R**2-xcirc**2),'--k')\n",
    "    ax[2].set_title('Total Potential')\n",
    "\n",
    "    ax[3].pcolor(xr,yr,(V-Vp).reshape(xr.size,yr.size))\n",
    "    ax[3].plot(xcirc,np.sqrt(R**2-xcirc**2),'--k',xcirc,-np.sqrt(R**2-xcirc**2),'--k')\n",
    "    ax[3].set_title('Secondary Potential')\n",
    "\n",
    "    plt.tight_layout()\n",
    "    \n",
    "interact(plot_Problem, R=R_slider, sig1=S_slider)"
   ]
  },
  {
   "cell_type": "code",
   "execution_count": 88,
   "metadata": {
    "collapsed": false
   },
   "outputs": [
    {
     "ename": "NameError",
     "evalue": "name 'Interact' is not defined",
     "output_type": "error",
     "traceback": [
      "\u001b[0;31m---------------------------------------------------------------------------\u001b[0m",
      "\u001b[0;31mNameError\u001b[0m                                 Traceback (most recent call last)",
      "\u001b[0;32m<ipython-input-88-7b3cbb9e375d>\u001b[0m in \u001b[0;36m<module>\u001b[0;34m()\u001b[0m\n\u001b[1;32m      2\u001b[0m \u001b[0mS_slider\u001b[0m \u001b[0;34m=\u001b[0m \u001b[0mFloatSlider\u001b[0m\u001b[0;34m(\u001b[0m\u001b[0mmin\u001b[0m\u001b[0;34m=\u001b[0m\u001b[0;34m-\u001b[0m\u001b[0;36m10.\u001b[0m\u001b[0;34m,\u001b[0m \u001b[0mmax\u001b[0m \u001b[0;34m=\u001b[0m\u001b[0;36m10.\u001b[0m\u001b[0;34m,\u001b[0m \u001b[0mstep\u001b[0m\u001b[0;34m=\u001b[0m\u001b[0;36m1.\u001b[0m\u001b[0;34m)\u001b[0m\u001b[0;34m\u001b[0m\u001b[0m\n\u001b[1;32m      3\u001b[0m \u001b[0;34m\u001b[0m\u001b[0m\n\u001b[0;32m----> 4\u001b[0;31m \u001b[0mInteract\u001b[0m\u001b[0;34m(\u001b[0m\u001b[0mR_slider\u001b[0m\u001b[0;34m,\u001b[0m \u001b[0mS_slider\u001b[0m\u001b[0;34m)\u001b[0m\u001b[0;34m\u001b[0m\u001b[0m\n\u001b[0m",
      "\u001b[0;31mNameError\u001b[0m: name 'Interact' is not defined"
     ]
    }
   ],
   "source": [
    "R_slider = FloatSlider(min=0., max =50., step=10.)\n",
    "S_slider = FloatSlider(min=-10., max =10., step=1.)\n",
    "\n",
    "Interact(R_slider, S_slider)"
   ]
  },
  {
   "cell_type": "code",
   "execution_count": 91,
   "metadata": {
    "collapsed": true
   },
   "outputs": [],
   "source": []
  },
  {
   "cell_type": "code",
   "execution_count": null,
   "metadata": {
    "collapsed": false
   },
   "outputs": [],
   "source": [
    "\n"
   ]
  },
  {
   "cell_type": "markdown",
   "metadata": {
    "collapsed": true
   },
   "source": [
    "E1x = @(x,y,z,sig1,sig2) E0 + E0*R^3./r(x,y,z).^5.*sigf(sig1,sig2).*(2*x.^2-y.^2-z.^2);\n",
    "E1y = @(x,y,z,sig1,sig2) E0*R^3./r(x,y,z).^5.*3.*x.*y*sigf(sig1,sig2);\n",
    "E1z = @(x,y,z,sig1,sig2) E0*R^3./r(x,y,z).^5.*3.*x.*z*sigf(sig1,sig2);\n",
    "\n",
    "E2x = @(x,y,z,sig1,sig2) 3*sig1/(sig2+2*sig1)*ones(size(x));\n",
    "E2y = @(x,y,z,sig1,sig2) 0*ones(size(x));\n",
    "E2z = @(x,y,z,sig1,sig2) 0*ones(size(x));\n",
    "\n",
    "Ex = @(x,y,z,sig1,sig2) (r(x,y,z) > R).*E1x(x,y,z,sig1,sig2) + (r(x,y,z) <= R).*E2x(x,y,z,sig1,sig2);\n",
    "Ey = @(x,y,z,sig1,sig2) (r(x,y,z) > R).*E1y(x,y,z,sig1,sig2) + (r(x,y,z) <= R).*E2y(x,y,z,sig1,sig2); \n",
    "Ez = @(x,y,z,sig1,sig2) (r(x,y,z) > R).*E1z(x,y,z,sig1,sig2) + (r(x,y,z) <= R).*E2z(x,y,z,sig1,sig2);\n",
    "\n",
    "Exp = @(x,y,z,sig1,sig2) E0.*ones(size(x));"
   ]
  },
  {
   "cell_type": "code",
   "execution_count": null,
   "metadata": {
    "collapsed": true
   },
   "outputs": [],
   "source": []
  }
 ],
 "metadata": {
  "kernelspec": {
   "display_name": "Python 2",
   "language": "python",
   "name": "python2"
  },
  "language_info": {
   "codemirror_mode": {
    "name": "ipython",
    "version": 2
   },
   "file_extension": ".py",
   "mimetype": "text/x-python",
   "name": "python",
   "nbconvert_exporter": "python",
   "pygments_lexer": "ipython2",
   "version": "2.7.10"
  }
 },
 "nbformat": 4,
 "nbformat_minor": 0
}
